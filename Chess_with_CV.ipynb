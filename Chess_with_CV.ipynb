{
 "cells": [
  {
   "cell_type": "code",
   "execution_count": 1,
   "metadata": {},
   "outputs": [],
   "source": [
    "import pandas as pd\n",
    "import numpy as np\n",
    "import matplotlib.pyplot as plt\n",
    "from sklearn.model_selection import train_test_split\n",
    "from sklearn import preprocessing \n",
    "import sklearn\n",
    "from skimage.io import imread, imshow\n",
    "from skimage.filters import gaussian\n",
    "from skimage.transform import rescale\n",
    "import os\n",
    "import random\n",
    "import skimage\n",
    "from skimage import io, exposure\n",
    "from sklearn.linear_model import LinearRegression, RidgeClassifier, LogisticRegression \n",
    "from sklearn.svm import SVC\n",
    "import pickle\n",
    "import collections\n",
    "from statistics import mean\n",
    "from skimage.draw import rectangle, set_color"
   ]
  },
  {
   "cell_type": "code",
   "execution_count": 2,
   "metadata": {},
   "outputs": [],
   "source": [
    "#GLOBAL PARAMETERS\n",
    "\n",
    "IMAGE_LOAD_SIZE = 20000 #The amount of board files to load\n",
    "DROP_BLANKS_PCT = .8 #When learning squares, drop this percent of blank squares from fitting\n",
    "SAVE_CLASSIFIER = True #Saves squares classifier after fit\n",
    "HIGH_ERR_THRESHHOLD = 1 #The number of errors a matrix has to have to get flagged as 'high error'\n",
    "\n",
    "\n",
    "PIECE_LIST = 'prnbqkPRNBQK' #FEN piece codes. Case represents color.\n",
    "PIECE_NAMES = \"Blank,Black Pawn,Black Rook,Black Knight,Black Bishop,Black Queen,Black King,White Pawn,White Rook,White Knight,White Bishop,White Queen,White King\".split(',')\n",
    "PIECE_NAME_DICT = {} #dictionary from piece code to peice name\n",
    "PIECE_NUM_DICT = {} #dictionary from piece char to piece num\n",
    "\n",
    "\n",
    "#Fill Dictionaries\n",
    "PIECE_NAME_DICT[0] = 'Blank'\n",
    "for ii in range(1, len(PIECE_LIST)+1):\n",
    "    PIECE_NUM_DICT[PIECE_LIST[ii-1]] = ii\n",
    "    if ii<13:\n",
    "        PIECE_NAME_DICT[ii] = PIECE_NAMES[ii]\n",
    "        \n"
   ]
  },
  {
   "cell_type": "code",
   "execution_count": 3,
   "metadata": {},
   "outputs": [],
   "source": [
    "#This function just lets us see progress bars, dont worry about it.\n",
    "\n",
    "def log_progress(sequence, every=None, size=None, name='Items'):\n",
    "    from ipywidgets import IntProgress, HTML, VBox\n",
    "    from IPython.display import display\n",
    "\n",
    "    is_iterator = False\n",
    "    if size is None:\n",
    "        try:\n",
    "            size = len(sequence)\n",
    "        except TypeError:\n",
    "            is_iterator = True\n",
    "    if size is not None:\n",
    "        if every is None:\n",
    "            if size <= 200:\n",
    "                every = 1\n",
    "            else:\n",
    "                every = int(size / 200)     # every 0.5%\n",
    "    else:\n",
    "        assert every is not None, 'sequence is iterator, set every'\n",
    "\n",
    "    if is_iterator:\n",
    "        progress = IntProgress(min=0, max=1, value=1)\n",
    "        progress.bar_style = 'info'\n",
    "    else:\n",
    "        progress = IntProgress(min=0, max=size, value=0)\n",
    "    label = HTML()\n",
    "    box = VBox(children=[label, progress])\n",
    "    display(box)\n",
    "\n",
    "    index = 0\n",
    "    try:\n",
    "        for index, record in enumerate(sequence, 1):\n",
    "            if index == 1 or index % every == 0:\n",
    "                if is_iterator:\n",
    "                    label.value = '{name}: {index} / ?'.format(\n",
    "                        name=name,\n",
    "                        index=index\n",
    "                    )\n",
    "                else:\n",
    "                    progress.value = index\n",
    "                    label.value = u'{name}: {index} / {size}'.format(\n",
    "                        name=name,\n",
    "                        index=index,\n",
    "                        size=size\n",
    "                    )\n",
    "            yield record\n",
    "    except:\n",
    "        progress.bar_style = 'danger'\n",
    "        raise\n",
    "    else:\n",
    "        progress.bar_style = 'success'\n",
    "        progress.value = index\n",
    "        label.value = \"{name}: {index}\".format(\n",
    "            name=name,\n",
    "            index=str(index or '?')\n",
    "        )"
   ]
  },
  {
   "cell_type": "code",
   "execution_count": 4,
   "metadata": {},
   "outputs": [],
   "source": [
    "def is_number(s):\n",
    "    try:\n",
    "        float(s)\n",
    "        return True\n",
    "    except ValueError:\n",
    "        return False\n",
    "\n",
    "#IMPORTANT\n",
    "def preprocess(img):\n",
    "    img = skimage.filters.gaussian(img, sigma = 3)\n",
    "    img = rescale(img, .2, anti_aliasing = True)\n",
    "    #img = exposure.equalize_hist(img)\n",
    "    return img\n",
    "\n",
    "\n",
    "def load_imgs(size):\n",
    "    path = './archive/train/' #SET THIS PATH TO YOUR IMAGES\n",
    "    board_mats = []\n",
    "    board_imgs = []\n",
    "    count = 0\n",
    "    \n",
    "    for item in log_progress(os.listdir(path), every = 100):\n",
    "        image = imread(path + item,  as_gray = True)\n",
    "        image = preprocess(image)\n",
    "        board_imgs.append(image)\n",
    "        board_mats.append(convert_fen_to_arr(item[:-5]))\n",
    "        count = count + 1\n",
    "        if (count > size-1) and not size == -1:\n",
    "            return board_imgs, board_mats\n",
    "            \n",
    "    return board_imgs, board_mats\n",
    "    \n",
    "    \n",
    "def convert_fen_to_arr(fen):\n",
    "    fen = fen.split('-')\n",
    "    board = np.zeros(64)\n",
    "    file = 0\n",
    "    for rank_idx, rank_str in enumerate(fen):\n",
    "        for char in rank_str:\n",
    "            if is_number(char):\n",
    "                for cols in range(int(char)):\n",
    "                    board[file + cols] = 0\n",
    "                file = file + int(char)\n",
    "            else:\n",
    "                board[file] = PIECE_NUM_DICT[char]\n",
    "                file = file + 1\n",
    "                \n",
    "    return board\n",
    "\n",
    "#blank_pct should be a number between 0 and 1 representing the percent of blank squares we want to retain\n",
    "def split_board(board_imgs, board_mats, blank_pct = 1):\n",
    "    targets = []\n",
    "    features = []\n",
    "    dropped = 0\n",
    "    \n",
    "    if(blank_pct > 1 or blank_pct < 0):\n",
    "        raise ValueError(\"Percent Blank Boards Must Be < 1 and > 0, defaulting to 100%\")\n",
    "        blank_pct = 1\n",
    "    \n",
    "    \n",
    "    \n",
    "    for index, board_arr in enumerate(board_imgs):\n",
    "\n",
    "        board_img = np.reshape(board_arr, (80,80))\n",
    "        tiles = skimage.util.shape.view_as_blocks(board_img, block_shape=(10, 10))\n",
    "        board_mat = np.reshape(board_mats[index], (8,8))\n",
    "        \n",
    "        \n",
    "        for row in range(8):\n",
    "            for col in range(8):\n",
    "                \n",
    "                feature = tiles[row][col]\n",
    "                target = board_mat[row][col]\n",
    "                \n",
    "                #If the target is blank, there is a chance to drop the sample\n",
    "                add = True\n",
    "                if target == 0.0:\n",
    "                    if(random.random() > blank_pct):\n",
    "                        add = False\n",
    "                        dropped = dropped + 1\n",
    "                if(add):    \n",
    "                    targets.append(target)\n",
    "                    features.append(np.ndarray.flatten(feature))\n",
    "               \n",
    "    return features, targets, dropped\n"
   ]
  },
  {
   "cell_type": "code",
   "execution_count": 5,
   "metadata": {},
   "outputs": [
    {
     "data": {
      "application/vnd.jupyter.widget-view+json": {
       "model_id": "2f4a2f27e6db477bac77ccf2b7275f4a",
       "version_major": 2,
       "version_minor": 0
      },
      "text/plain": [
       "VBox(children=(HTML(value=''), IntProgress(value=0, max=80000)))"
      ]
     },
     "metadata": {},
     "output_type": "display_data"
    }
   ],
   "source": [
    "imgs, mats = load_imgs(IMAGE_LOAD_SIZE)   "
   ]
  },
  {
   "cell_type": "code",
   "execution_count": 6,
   "metadata": {},
   "outputs": [
    {
     "name": "stdout",
     "output_type": "stream",
     "text": [
      "5683\n",
      "[[ 4.  0.  0.  0.  0.  0.  0.  3.]\n",
      " [ 0. 12.  0.  0.  0.  0.  0.  0.]\n",
      " [ 0.  0.  0.  5.  0.  0.  0.  0.]\n",
      " [ 0.  0.  0.  0.  0.  0.  0.  0.]\n",
      " [ 0.  0.  0.  0.  2.  0.  3.  0.]\n",
      " [ 0.  0.  0.  0.  0.  0.  4.  7.]\n",
      " [ 0.  6.  0.  0.  0.  0.  0.  0.]\n",
      " [ 0.  0.  0.  0.  0.  0.  0.  0.]]\n",
      "[ 4.  0.  0.  0.  0.  0.  0.  3.  0. 12.  0.  0.  0.  0.  0.  0.  0.  0.\n",
      "  0.  5.  0.  0.  0.  0.  0.  0.  0.  0.  0.  0.  0.  0.  0.  0.  0.  0.\n",
      "  2.  0.  3.  0.  0.  0.  0.  0.  0.  0.  4.  7.  0.  6.  0.  0.  0.  0.\n",
      "  0.  0.  0.  0.  0.  0.  0.  0.  0.  0.]\n"
     ]
    },
    {
     "name": "stderr",
     "output_type": "stream",
     "text": [
      "/opt/anaconda3/lib/python3.8/site-packages/skimage/io/_plugins/matplotlib_plugin.py:150: UserWarning: Low image data range; displaying image with stretched contrast.\n",
      "  lo, hi, cmap = _get_display_range(image)\n"
     ]
    },
    {
     "data": {
      "image/png": "[encoded data removed]",
      "text/plain": [
       "<Figure size 432x288 with 2 Axes>"
      ]
     },
     "metadata": {
      "needs_background": "light"
     },
     "output_type": "display_data"
    }
   ],
   "source": [
    "#Test random board image vs board matrix\n",
    "rand = random.randint(0,len(imgs))\n",
    "print(rand)\n",
    "imshow(imgs[rand]/255.0, cmap='gray')\n",
    "print(np.reshape(mats[rand], (8,8)))\n",
    "print(mats[rand])\n"
   ]
  },
  {
   "cell_type": "code",
   "execution_count": 7,
   "metadata": {},
   "outputs": [],
   "source": [
    "#Split the whole image set. We will do regression on the squares of our train set (by splitting it again), \n",
    "#then see if we can anylize our boards\n",
    "\n",
    "imgs_train, imgs_test, mats_train, mats_test = sklearn.model_selection.train_test_split(imgs, mats, test_size = .2)"
   ]
  },
  {
   "cell_type": "code",
   "execution_count": 8,
   "metadata": {},
   "outputs": [
    {
     "name": "stdout",
     "output_type": "stream",
     "text": [
      "Splitting Train Squares.\n",
      "Splitting Test Squares.\n",
      "Initializing Multinomial Classifier.\n",
      "Beginning fit with 680895 squares and 138305 dropped blanks.\n"
     ]
    },
    {
     "name": "stderr",
     "output_type": "stream",
     "text": [
      "[Parallel(n_jobs=-2)]: Using backend LokyBackend with 7 concurrent workers.\n",
      "[Parallel(n_jobs=-2)]: Done   2 out of   5 | elapsed: 254.1min remaining: 381.1min\n",
      "[Parallel(n_jobs=-2)]: Done   3 out of   5 | elapsed: 254.8min remaining: 169.9min\n",
      "[Parallel(n_jobs=-2)]: Done   5 out of   5 | elapsed: 261.4min remaining:    0.0s\n",
      "[Parallel(n_jobs=-2)]: Done   5 out of   5 | elapsed: 261.4min finished\n",
      "/opt/anaconda3/lib/python3.8/site-packages/sklearn/utils/optimize.py:211: ConvergenceWarning: newton-cg failed to converge. Increase the number of iterations.\n",
      "  warnings.warn(\"newton-cg failed to converge. Increase the \"\n"
     ]
    },
    {
     "name": "stdout",
     "output_type": "stream",
     "text": [
      "Accuracy: 0.9994921875\t\n",
      "[[172414      0      0      0      0      0      0      0      0      0\n",
      "       0      0      0]\n",
      " [     3   2888      3      2      0      0      0      0      0      0\n",
      "       0      0      0]\n",
      " [     6      0   2843      1      2      2      0      0      0      0\n",
      "       0      0      0]\n",
      " [     7      2      4   2812      0      6      1      0      0      0\n",
      "       0      0      0]\n",
      " [     3      0      3      2   2902      3      4      0      0      0\n",
      "       0      0      0]\n",
      " [     3      1      1      2      1   1460      8      0      0      0\n",
      "       0      0      0]\n",
      " [     7      0      2      1      4      5   3181      0      0      0\n",
      "       0      0      0]\n",
      " [     1      3      0      0      0      0      0   2863      0      0\n",
      "       0      0      0]\n",
      " [     0      0      0      0      0      0      0      1   2908      0\n",
      "       0      1      0]\n",
      " [     2      0      0      0      0      0      0      0      2   2893\n",
      "       0      1      0]\n",
      " [     0      0      0      0      0      0      0      1      0      0\n",
      "    2827      1      0]\n",
      " [     0      0      0      0      0      0      0      1      0      0\n",
      "       0   1505      1]\n",
      " [     0      0      0      0      0      0      0      0      0      0\n",
      "       0      0   3200]]\n"
     ]
    },
    {
     "data": {
      "text/plain": [
       "<sklearn.metrics._plot.confusion_matrix.ConfusionMatrixDisplay at 0x117eb38e0>"
      ]
     },
     "execution_count": 8,
     "metadata": {},
     "output_type": "execute_result"
    },
    {
     "data": {
      "image/png": "[encoded data removed]",
      "text/plain": [
       "<Figure size 432x288 with 2 Axes>"
      ]
     },
     "metadata": {
      "needs_background": "light"
     },
     "output_type": "display_data"
    }
   ],
   "source": [
    "#Squares regression\n",
    "squares_img_train, squares_img_test, y_piece_train, y_piece_test = sklearn.model_selection.train_test_split(imgs_train, mats_train, test_size = .2)\n",
    "\n",
    "print(\"Splitting Train Squares.\")\n",
    "squares, pieces, dropped = split_board(squares_img_train, y_piece_train, DROP_BLANKS_PCT)\n",
    "\n",
    "print(\"Splitting Test Squares.\")\n",
    "test_squares, test_pieces, _ = split_board(squares_img_test, y_piece_test)\n",
    "\n",
    "print(\"Initializing Multinomial Classifier.\")\n",
    "clf = sklearn.linear_model.LogisticRegressionCV(multi_class='multinomial', \n",
    "                                              solver='newton-cg', \n",
    "                                              fit_intercept = True, \n",
    "                                              verbose = 10, \n",
    "                                              n_jobs = -2 ) #n_jobs is allocating your cpu cores, where -2 is one less than your max\n",
    "#clf = sklearn.linear_model.RidgeClassifierCV(fit_intercept = True)\n",
    "print('Beginning fit with ' + str(len(squares)) + ' squares and ' + str(dropped) + ' dropped blanks.')\n",
    "clf.fit(squares, pieces)\n",
    "\n",
    "\n",
    "predictions = clf.predict(test_squares)\n",
    "accuracy = sklearn.metrics.accuracy_score(test_pieces, predictions)\n",
    "print('Accuracy: ' + str(accuracy)+'\\t')\n",
    "print(sklearn.metrics.confusion_matrix(test_pieces, predictions))\n",
    "sklearn.metrics.plot_confusion_matrix(clf, test_squares, test_pieces)\n"
   ]
  },
  {
   "cell_type": "code",
   "execution_count": 9,
   "metadata": {},
   "outputs": [],
   "source": [
    "#If save_classifier is set to true, pickles the classifer to your local directory\n",
    "import datetime\n",
    "if(SAVE_CLASSIFIER):\n",
    "    file_name = \"clf_\" + 'acc' + str(accuracy).split('.')[0] + '' + str(accuracy).split('.')[1][:4] + '_tm' + str(datetime.datetime.now().strftime('%Y%m%d')) + '.pkl'\n",
    "    with open(file_name, 'wb') as fid:\n",
    "        pickle.dump(clf, fid)   "
   ]
  },
  {
   "cell_type": "code",
   "execution_count": 10,
   "metadata": {},
   "outputs": [
    {
     "data": {
      "application/vnd.jupyter.widget-view+json": {
       "model_id": "60fd3973ddaa4757b508f785935035ad",
       "version_major": 2,
       "version_minor": 0
      },
      "text/plain": [
       "VBox(children=(HTML(value=''), IntProgress(value=1, bar_style='info', max=1)))"
      ]
     },
     "metadata": {},
     "output_type": "display_data"
    },
    {
     "data": {
      "application/vnd.jupyter.widget-view+json": {
       "model_id": "3e4795d2bd574ab0998f2adcbdaf4eec",
       "version_major": 2,
       "version_minor": 0
      },
      "text/plain": [
       "VBox(children=(HTML(value=''), IntProgress(value=1, bar_style='info', max=1)))"
      ]
     },
     "metadata": {},
     "output_type": "display_data"
    },
    {
     "name": "stdout",
     "output_type": "stream",
     "text": [
      "Perfect Board Count: 3896\n",
      "Total Board Count: 4000\n",
      "Percent Perfect: 97.0%\n",
      "Average Errored Squares Per Board: 0.03\n",
      "\n",
      "Confusion Matrix (Diagonal Zeroed):\n",
      "\n",
      "[[ 0.  0.  0.  0.  0.  0.  0.  0.  0.  0.  0.  0.  0.]\n",
      " [ 3.  0.  1.  0.  0.  0.  0.  1.  0.  0.  0.  0.  0.]\n",
      " [ 4.  1.  0.  1.  2.  0.  1.  0.  0.  0.  0.  0.  0.]\n",
      " [ 5.  5.  2.  0.  0.  6.  1.  0.  0.  0.  0.  0.  0.]\n",
      " [ 3.  2.  3.  1.  0.  5.  3.  0.  0.  0.  1.  0.  0.]\n",
      " [ 9.  0.  1.  3.  2.  0. 11.  0.  0.  0.  0.  0.  0.]\n",
      " [ 7.  0.  0.  3.  5.  4.  0.  0.  0.  1.  0.  0.  0.]\n",
      " [ 3.  2.  0.  0.  0.  0.  0.  0.  0.  0.  1.  0.  1.]\n",
      " [ 0.  0.  0.  0.  0.  0.  0.  1.  0.  0.  0.  2.  0.]\n",
      " [ 0.  0.  0.  0.  0.  1.  0.  0.  2.  0.  0.  0.  0.]\n",
      " [ 0.  0.  2.  0.  1.  0.  0.  1.  0.  0.  0.  0.  0.]\n",
      " [ 3.  0.  1.  0.  0.  0.  0.  0.  1.  0.  0.  0.  0.]\n",
      " [ 3.  0.  0.  0.  0.  0.  0.  0.  0.  0.  1.  0.  0.]]\n"
     ]
    }
   ],
   "source": [
    "#Board Prediction imgs_test mats_test\n",
    "\n",
    "board_predictions = []\n",
    "board_real = []\n",
    "for index, board in log_progress(enumerate(imgs_test), every = 10):\n",
    "    squares, pieces, _ = split_board([board], [mats_test[index]])\n",
    "    board_predictions.append(clf.predict(squares))\n",
    "    board_real.append(pieces)\n",
    "    \n",
    "total = 0\n",
    "perfect = 0\n",
    "err_counts = {}\n",
    "high_err_mats = {}\n",
    "confusion_matrix = np.zeros((13,13))\n",
    "\n",
    "\n",
    "for index, board in log_progress(enumerate(board_predictions), every = 10):\n",
    "    \n",
    "    err_count = 0\n",
    "    err_idxs = []\n",
    "    if(np.array_equal(board, board_real[index])):\n",
    "        perfect = perfect + 1\n",
    "    else:  \n",
    "        for ii in range(len(board)):\n",
    "            predicted = int(board[ii])\n",
    "            actual = int(board_real[index][ii])\n",
    "            if(not predicted == actual):\n",
    "                confusion_matrix[actual][predicted] = confusion_matrix[actual][predicted] + 1\n",
    "                err_count = err_count + 1\n",
    "                err_idxs.append([ii, predicted, actual])\n",
    "        \n",
    "    err_counts[index] = err_count\n",
    "    if(err_count>=HIGH_ERR_THRESHHOLD):\n",
    "        high_err_mats[index] = err_idxs\n",
    "    total = total + 1\n",
    "    \n",
    "print('Perfect Board Count: ' + str(perfect))\n",
    "print('Total Board Count: ' + str(total)) \n",
    "print('Percent Perfect: ' + str(np.round(perfect/total, 2)*100)[0:] + \"%\")    \n",
    "print('Average Errored Squares Per Board: ' + str(np.round(mean(err_counts.values()), 2)))\n",
    "print('\\nConfusion Matrix (Diagonal Zeroed):\\n')      \n",
    "print(confusion_matrix)"
   ]
  },
  {
   "cell_type": "code",
   "execution_count": 11,
   "metadata": {
    "scrolled": false
   },
   "outputs": [
    {
     "name": "stdout",
     "output_type": "stream",
     "text": [
      "  Coordinates   Predicted        Actual\n",
      "0      (0, 7)  White Rook  White Knight\n"
     ]
    },
    {
     "data": {
      "text/plain": [
       "<matplotlib.image.AxesImage at 0x16e695490>"
      ]
     },
     "execution_count": 11,
     "metadata": {},
     "output_type": "execute_result"
    },
    {
     "data": {
      "text/plain": [
       "<Figure size 432x288 with 0 Axes>"
      ]
     },
     "metadata": {},
     "output_type": "display_data"
    },
    {
     "data": {
      "image/png": "[encoded data removed]",
      "text/plain": [
       "<Figure size 1440x1440 with 2 Axes>"
      ]
     },
     "metadata": {
      "needs_background": "light"
     },
     "output_type": "display_data"
    }
   ],
   "source": [
    "coords = np.zeros(64)\n",
    "count = 0\n",
    "for i in range(64):\n",
    "    coords[i] = count\n",
    "    count = count + 1\n",
    "coords = np.reshape(coords, (8,8))\n",
    "index, error = random.choice(list(high_err_mats.items()))\n",
    "err_img = np.copy(imgs_test[index])\n",
    "readout = pd.DataFrame(columns=['Coordinates', 'Predicted', 'Actual'] )\n",
    "for ii in high_err_mats[index]:\n",
    "    rank,file = np.where(coords == ii[0])\n",
    "    start = (rank[0]*10, file[0]*10 )\n",
    "    extent = (10, 10)\n",
    "    rr,cc= skimage.draw.rectangle_perimeter(start=start, extent=extent, shape=(80,80))\n",
    "    set_color(err_img, (rr,cc), 1)\n",
    "    readout = readout.append({'Coordinates': (rank[0], file[0]),\n",
    "                         'Predicted': PIECE_NAME_DICT[ii[1]],\n",
    "                         'Actual': PIECE_NAME_DICT[ii[2]]}, ignore_index=True)\n",
    "\n",
    "print(readout)\n",
    "plt.figure()\n",
    "f, axarr = plt.subplots(2,1, figsize=(20,20)) \n",
    "axarr[0].set_title('Errored Squares')\n",
    "axarr[0].imshow(err_img)\n",
    "axarr[1].set_title('Original')\n",
    "axarr[1].imshow(imgs_test[index]/255., cmap='gray')"
   ]
  },
  {
   "cell_type": "code",
   "execution_count": null,
   "metadata": {},
   "outputs": [],
   "source": []
  },
  {
   "cell_type": "code",
   "execution_count": null,
   "metadata": {},
   "outputs": [],
   "source": []
  }
 ],
 "metadata": {
  "kernelspec": {
   "display_name": "Python 3",
   "language": "python",
   "name": "python3"
  },
  "language_info": {
   "codemirror_mode": {
    "name": "ipython",
    "version": 3
   },
   "file_extension": ".py",
   "mimetype": "text/x-python",
   "name": "python",
   "nbconvert_exporter": "python",
   "pygments_lexer": "ipython3",
   "version": "3.8.3"
  }
 },
 "nbformat": 4,
 "nbformat_minor": 4
}
